{
 "cells": [
  {
   "cell_type": "code",
   "execution_count": 1,
   "id": "0bb04b26",
   "metadata": {},
   "outputs": [],
   "source": [
    "#Importando as biblitecas\n",
    "import pandas as pd\n",
    "import datetime as dt\n",
    "import seaborn as sns\n",
    "import matplotlib.pyplot as plt\n",
    "import numpy as np\n",
    "from matplotlib import pyplot as plt\n",
    "from sklearn.datasets import make_regression\n",
    "from sklearn.linear_model import LinearRegression"
   ]
  },
  {
   "cell_type": "code",
   "execution_count": 2,
   "id": "c120d752",
   "metadata": {
    "scrolled": true
   },
   "outputs": [],
   "source": [
    "#Removendo as colunas que não vamos utilziar\n",
    "base = pd.read_excel(\"C:/Users/Certe/Desktop/acidentes_processados-3.xlsx\")\n",
    "base = base.drop('ocorrencia_longitude', axis=1)\n",
    "base = base.drop('ocorrencia_latitude', axis=1)\n",
    "base = base.drop('ocorrencia_cidade', axis=1)\n",
    "base = base.drop('ocorrencia_uf', axis=1)\n",
    "base = base.drop('ocorrencia_dia', axis=1)\n",
    "base = base.drop('ocorrencia_aerodromo', axis=1)\n",
    "base = base.drop('ocorrencia_hora', axis=1)\n",
    "base = base.drop('investigacao_aeronave_liberada', axis=1)\n",
    "base = base.drop('total_recomendacoes', axis=1)\n",
    "base = base.drop('total_aeronaves_envolvidas', axis=1)\n",
    "base = base.drop('ocorrencia_saida_pista', axis=1)\n",
    "base = base.drop('ocorrencia_tipo', axis=1)\n",
    "base = base.drop('recomendacao_numero', axis=1)\n",
    "base = base.drop('recomendacao_dia_assinatura', axis=1)\n",
    "base = base.drop('recomendacao_dia_encaminhamento', axis=1)\n",
    "base = base.drop('recomendacao_dia_feedback', axis=1)\n",
    "base = base.drop('recomendacao_conteudo', axis=1)\n",
    "base = base.drop('recomendacao_status', axis=1)\n",
    "base = base.drop('aeronave_voo_origem', axis=1)\n",
    "base = base.drop('aeronave_voo_destino', axis=1)\n",
    "base = base.drop('aeronave_nivel_dano', axis=1)\n",
    "base = base.drop('aeronave_fatalidades_total', axis=1)\n",
    "base = base.drop('fator_nome', axis=1)\n",
    "base = base.drop('fator_condicionante', axis=1)"
   ]
  },
  {
   "cell_type": "code",
   "execution_count": 3,
   "id": "8660b6bf",
   "metadata": {},
   "outputs": [],
   "source": [
    "#Importando a biblioteca para conversão\n",
    "from sklearn.preprocessing import OneHotEncoder, OrdinalEncoder"
   ]
  },
  {
   "cell_type": "code",
   "execution_count": 4,
   "id": "23ac514d",
   "metadata": {},
   "outputs": [],
   "source": [
    "#Criando os conversores\n",
    "ohe = OneHotEncoder(sparse_output=False)\n",
    "ode = OrdinalEncoder()"
   ]
  },
  {
   "cell_type": "code",
   "execution_count": 5,
   "id": "0cba1110",
   "metadata": {},
   "outputs": [],
   "source": [
    "#Importando outra biblioteca para conversão\n",
    "from sklearn.compose import make_column_transformer"
   ]
  },
  {
   "cell_type": "code",
   "execution_count": 6,
   "id": "fa1f90cd",
   "metadata": {},
   "outputs": [],
   "source": [
    "#Convertendo as colunas para utilizar no aprendizando de maquina\n",
    "ct = make_column_transformer(\n",
    "    (ode, ['ocorrencia_classificacao']), \n",
    "    (ohe, ['aeronave_tipo_veiculo']),\n",
    "    (ohe, ['aeronave_motor_tipo']),\n",
    "    (ohe, ['aeronave_motor_quantidade']),\n",
    "    (ohe, ['aeronave_pais_fabricante']),\n",
    "    (ohe, ['fator_area']),\n",
    "    (ohe, ['aeronave_matricula']),\n",
    "    (ohe, ['aeronave_fabricante']),\n",
    "    (ohe, ['aeronave_modelo']),\n",
    "    (ohe, ['aeronave_tipo_icao']),\n",
    "    (ohe, ['aeronave_fase_operacao']),\n",
    "    (ohe, ['fator_aspecto']),\n",
    "    remainder = 'drop'\n",
    ")"
   ]
  },
  {
   "cell_type": "code",
   "execution_count": 7,
   "id": "9acca049",
   "metadata": {},
   "outputs": [
    {
     "data": {
      "text/html": [
       "<style>#sk-container-id-1 {color: black;background-color: white;}#sk-container-id-1 pre{padding: 0;}#sk-container-id-1 div.sk-toggleable {background-color: white;}#sk-container-id-1 label.sk-toggleable__label {cursor: pointer;display: block;width: 100%;margin-bottom: 0;padding: 0.3em;box-sizing: border-box;text-align: center;}#sk-container-id-1 label.sk-toggleable__label-arrow:before {content: \"▸\";float: left;margin-right: 0.25em;color: #696969;}#sk-container-id-1 label.sk-toggleable__label-arrow:hover:before {color: black;}#sk-container-id-1 div.sk-estimator:hover label.sk-toggleable__label-arrow:before {color: black;}#sk-container-id-1 div.sk-toggleable__content {max-height: 0;max-width: 0;overflow: hidden;text-align: left;background-color: #f0f8ff;}#sk-container-id-1 div.sk-toggleable__content pre {margin: 0.2em;color: black;border-radius: 0.25em;background-color: #f0f8ff;}#sk-container-id-1 input.sk-toggleable__control:checked~div.sk-toggleable__content {max-height: 200px;max-width: 100%;overflow: auto;}#sk-container-id-1 input.sk-toggleable__control:checked~label.sk-toggleable__label-arrow:before {content: \"▾\";}#sk-container-id-1 div.sk-estimator input.sk-toggleable__control:checked~label.sk-toggleable__label {background-color: #d4ebff;}#sk-container-id-1 div.sk-label input.sk-toggleable__control:checked~label.sk-toggleable__label {background-color: #d4ebff;}#sk-container-id-1 input.sk-hidden--visually {border: 0;clip: rect(1px 1px 1px 1px);clip: rect(1px, 1px, 1px, 1px);height: 1px;margin: -1px;overflow: hidden;padding: 0;position: absolute;width: 1px;}#sk-container-id-1 div.sk-estimator {font-family: monospace;background-color: #f0f8ff;border: 1px dotted black;border-radius: 0.25em;box-sizing: border-box;margin-bottom: 0.5em;}#sk-container-id-1 div.sk-estimator:hover {background-color: #d4ebff;}#sk-container-id-1 div.sk-parallel-item::after {content: \"\";width: 100%;border-bottom: 1px solid gray;flex-grow: 1;}#sk-container-id-1 div.sk-label:hover label.sk-toggleable__label {background-color: #d4ebff;}#sk-container-id-1 div.sk-serial::before {content: \"\";position: absolute;border-left: 1px solid gray;box-sizing: border-box;top: 0;bottom: 0;left: 50%;z-index: 0;}#sk-container-id-1 div.sk-serial {display: flex;flex-direction: column;align-items: center;background-color: white;padding-right: 0.2em;padding-left: 0.2em;position: relative;}#sk-container-id-1 div.sk-item {position: relative;z-index: 1;}#sk-container-id-1 div.sk-parallel {display: flex;align-items: stretch;justify-content: center;background-color: white;position: relative;}#sk-container-id-1 div.sk-item::before, #sk-container-id-1 div.sk-parallel-item::before {content: \"\";position: absolute;border-left: 1px solid gray;box-sizing: border-box;top: 0;bottom: 0;left: 50%;z-index: -1;}#sk-container-id-1 div.sk-parallel-item {display: flex;flex-direction: column;z-index: 1;position: relative;background-color: white;}#sk-container-id-1 div.sk-parallel-item:first-child::after {align-self: flex-end;width: 50%;}#sk-container-id-1 div.sk-parallel-item:last-child::after {align-self: flex-start;width: 50%;}#sk-container-id-1 div.sk-parallel-item:only-child::after {width: 0;}#sk-container-id-1 div.sk-dashed-wrapped {border: 1px dashed gray;margin: 0 0.4em 0.5em 0.4em;box-sizing: border-box;padding-bottom: 0.4em;background-color: white;}#sk-container-id-1 div.sk-label label {font-family: monospace;font-weight: bold;display: inline-block;line-height: 1.2em;}#sk-container-id-1 div.sk-label-container {text-align: center;}#sk-container-id-1 div.sk-container {/* jupyter's `normalize.less` sets `[hidden] { display: none; }` but bootstrap.min.css set `[hidden] { display: none !important; }` so we also need the `!important` here to be able to override the default hidden behavior on the sphinx rendered scikit-learn.org. See: https://github.com/scikit-learn/scikit-learn/issues/21755 */display: inline-block !important;position: relative;}#sk-container-id-1 div.sk-text-repr-fallback {display: none;}</style><div id=\"sk-container-id-1\" class=\"sk-top-container\"><div class=\"sk-text-repr-fallback\"><pre>ColumnTransformer(transformers=[(&#x27;ordinalencoder&#x27;, OrdinalEncoder(),\n",
       "                                 [&#x27;ocorrencia_classificacao&#x27;]),\n",
       "                                (&#x27;onehotencoder-1&#x27;,\n",
       "                                 OneHotEncoder(sparse_output=False),\n",
       "                                 [&#x27;aeronave_tipo_veiculo&#x27;]),\n",
       "                                (&#x27;onehotencoder-2&#x27;,\n",
       "                                 OneHotEncoder(sparse_output=False),\n",
       "                                 [&#x27;aeronave_motor_tipo&#x27;]),\n",
       "                                (&#x27;onehotencoder-3&#x27;,\n",
       "                                 OneHotEncoder(sparse_output=False),\n",
       "                                 [&#x27;aeronave_motor_quantidade&#x27;]),\n",
       "                                (&#x27;onehot...\n",
       "                                 OneHotEncoder(sparse_output=False),\n",
       "                                 [&#x27;aeronave_fabricante&#x27;]),\n",
       "                                (&#x27;onehotencoder-8&#x27;,\n",
       "                                 OneHotEncoder(sparse_output=False),\n",
       "                                 [&#x27;aeronave_modelo&#x27;]),\n",
       "                                (&#x27;onehotencoder-9&#x27;,\n",
       "                                 OneHotEncoder(sparse_output=False),\n",
       "                                 [&#x27;aeronave_tipo_icao&#x27;]),\n",
       "                                (&#x27;onehotencoder-10&#x27;,\n",
       "                                 OneHotEncoder(sparse_output=False),\n",
       "                                 [&#x27;aeronave_fase_operacao&#x27;]),\n",
       "                                (&#x27;onehotencoder-11&#x27;,\n",
       "                                 OneHotEncoder(sparse_output=False),\n",
       "                                 [&#x27;fator_aspecto&#x27;])])</pre><b>In a Jupyter environment, please rerun this cell to show the HTML representation or trust the notebook. <br />On GitHub, the HTML representation is unable to render, please try loading this page with nbviewer.org.</b></div><div class=\"sk-container\" hidden><div class=\"sk-item sk-dashed-wrapped\"><div class=\"sk-label-container\"><div class=\"sk-label sk-toggleable\"><input class=\"sk-toggleable__control sk-hidden--visually\" id=\"sk-estimator-id-1\" type=\"checkbox\" ><label for=\"sk-estimator-id-1\" class=\"sk-toggleable__label sk-toggleable__label-arrow\">ColumnTransformer</label><div class=\"sk-toggleable__content\"><pre>ColumnTransformer(transformers=[(&#x27;ordinalencoder&#x27;, OrdinalEncoder(),\n",
       "                                 [&#x27;ocorrencia_classificacao&#x27;]),\n",
       "                                (&#x27;onehotencoder-1&#x27;,\n",
       "                                 OneHotEncoder(sparse_output=False),\n",
       "                                 [&#x27;aeronave_tipo_veiculo&#x27;]),\n",
       "                                (&#x27;onehotencoder-2&#x27;,\n",
       "                                 OneHotEncoder(sparse_output=False),\n",
       "                                 [&#x27;aeronave_motor_tipo&#x27;]),\n",
       "                                (&#x27;onehotencoder-3&#x27;,\n",
       "                                 OneHotEncoder(sparse_output=False),\n",
       "                                 [&#x27;aeronave_motor_quantidade&#x27;]),\n",
       "                                (&#x27;onehot...\n",
       "                                 OneHotEncoder(sparse_output=False),\n",
       "                                 [&#x27;aeronave_fabricante&#x27;]),\n",
       "                                (&#x27;onehotencoder-8&#x27;,\n",
       "                                 OneHotEncoder(sparse_output=False),\n",
       "                                 [&#x27;aeronave_modelo&#x27;]),\n",
       "                                (&#x27;onehotencoder-9&#x27;,\n",
       "                                 OneHotEncoder(sparse_output=False),\n",
       "                                 [&#x27;aeronave_tipo_icao&#x27;]),\n",
       "                                (&#x27;onehotencoder-10&#x27;,\n",
       "                                 OneHotEncoder(sparse_output=False),\n",
       "                                 [&#x27;aeronave_fase_operacao&#x27;]),\n",
       "                                (&#x27;onehotencoder-11&#x27;,\n",
       "                                 OneHotEncoder(sparse_output=False),\n",
       "                                 [&#x27;fator_aspecto&#x27;])])</pre></div></div></div><div class=\"sk-parallel\"><div class=\"sk-parallel-item\"><div class=\"sk-item\"><div class=\"sk-label-container\"><div class=\"sk-label sk-toggleable\"><input class=\"sk-toggleable__control sk-hidden--visually\" id=\"sk-estimator-id-2\" type=\"checkbox\" ><label for=\"sk-estimator-id-2\" class=\"sk-toggleable__label sk-toggleable__label-arrow\">ordinalencoder</label><div class=\"sk-toggleable__content\"><pre>[&#x27;ocorrencia_classificacao&#x27;]</pre></div></div></div><div class=\"sk-serial\"><div class=\"sk-item\"><div class=\"sk-estimator sk-toggleable\"><input class=\"sk-toggleable__control sk-hidden--visually\" id=\"sk-estimator-id-3\" type=\"checkbox\" ><label for=\"sk-estimator-id-3\" class=\"sk-toggleable__label sk-toggleable__label-arrow\">OrdinalEncoder</label><div class=\"sk-toggleable__content\"><pre>OrdinalEncoder()</pre></div></div></div></div></div></div><div class=\"sk-parallel-item\"><div class=\"sk-item\"><div class=\"sk-label-container\"><div class=\"sk-label sk-toggleable\"><input class=\"sk-toggleable__control sk-hidden--visually\" id=\"sk-estimator-id-4\" type=\"checkbox\" ><label for=\"sk-estimator-id-4\" class=\"sk-toggleable__label sk-toggleable__label-arrow\">onehotencoder-1</label><div class=\"sk-toggleable__content\"><pre>[&#x27;aeronave_tipo_veiculo&#x27;]</pre></div></div></div><div class=\"sk-serial\"><div class=\"sk-item\"><div class=\"sk-estimator sk-toggleable\"><input class=\"sk-toggleable__control sk-hidden--visually\" id=\"sk-estimator-id-5\" type=\"checkbox\" ><label for=\"sk-estimator-id-5\" class=\"sk-toggleable__label sk-toggleable__label-arrow\">OneHotEncoder</label><div class=\"sk-toggleable__content\"><pre>OneHotEncoder(sparse_output=False)</pre></div></div></div></div></div></div><div class=\"sk-parallel-item\"><div class=\"sk-item\"><div class=\"sk-label-container\"><div class=\"sk-label sk-toggleable\"><input class=\"sk-toggleable__control sk-hidden--visually\" id=\"sk-estimator-id-6\" type=\"checkbox\" ><label for=\"sk-estimator-id-6\" class=\"sk-toggleable__label sk-toggleable__label-arrow\">onehotencoder-2</label><div class=\"sk-toggleable__content\"><pre>[&#x27;aeronave_motor_tipo&#x27;]</pre></div></div></div><div class=\"sk-serial\"><div class=\"sk-item\"><div class=\"sk-estimator sk-toggleable\"><input class=\"sk-toggleable__control sk-hidden--visually\" id=\"sk-estimator-id-7\" type=\"checkbox\" ><label for=\"sk-estimator-id-7\" class=\"sk-toggleable__label sk-toggleable__label-arrow\">OneHotEncoder</label><div class=\"sk-toggleable__content\"><pre>OneHotEncoder(sparse_output=False)</pre></div></div></div></div></div></div><div class=\"sk-parallel-item\"><div class=\"sk-item\"><div class=\"sk-label-container\"><div class=\"sk-label sk-toggleable\"><input class=\"sk-toggleable__control sk-hidden--visually\" id=\"sk-estimator-id-8\" type=\"checkbox\" ><label for=\"sk-estimator-id-8\" class=\"sk-toggleable__label sk-toggleable__label-arrow\">onehotencoder-3</label><div class=\"sk-toggleable__content\"><pre>[&#x27;aeronave_motor_quantidade&#x27;]</pre></div></div></div><div class=\"sk-serial\"><div class=\"sk-item\"><div class=\"sk-estimator sk-toggleable\"><input class=\"sk-toggleable__control sk-hidden--visually\" id=\"sk-estimator-id-9\" type=\"checkbox\" ><label for=\"sk-estimator-id-9\" class=\"sk-toggleable__label sk-toggleable__label-arrow\">OneHotEncoder</label><div class=\"sk-toggleable__content\"><pre>OneHotEncoder(sparse_output=False)</pre></div></div></div></div></div></div><div class=\"sk-parallel-item\"><div class=\"sk-item\"><div class=\"sk-label-container\"><div class=\"sk-label sk-toggleable\"><input class=\"sk-toggleable__control sk-hidden--visually\" id=\"sk-estimator-id-10\" type=\"checkbox\" ><label for=\"sk-estimator-id-10\" class=\"sk-toggleable__label sk-toggleable__label-arrow\">onehotencoder-4</label><div class=\"sk-toggleable__content\"><pre>[&#x27;aeronave_pais_fabricante&#x27;]</pre></div></div></div><div class=\"sk-serial\"><div class=\"sk-item\"><div class=\"sk-estimator sk-toggleable\"><input class=\"sk-toggleable__control sk-hidden--visually\" id=\"sk-estimator-id-11\" type=\"checkbox\" ><label for=\"sk-estimator-id-11\" class=\"sk-toggleable__label sk-toggleable__label-arrow\">OneHotEncoder</label><div class=\"sk-toggleable__content\"><pre>OneHotEncoder(sparse_output=False)</pre></div></div></div></div></div></div><div class=\"sk-parallel-item\"><div class=\"sk-item\"><div class=\"sk-label-container\"><div class=\"sk-label sk-toggleable\"><input class=\"sk-toggleable__control sk-hidden--visually\" id=\"sk-estimator-id-12\" type=\"checkbox\" ><label for=\"sk-estimator-id-12\" class=\"sk-toggleable__label sk-toggleable__label-arrow\">onehotencoder-5</label><div class=\"sk-toggleable__content\"><pre>[&#x27;fator_area&#x27;]</pre></div></div></div><div class=\"sk-serial\"><div class=\"sk-item\"><div class=\"sk-estimator sk-toggleable\"><input class=\"sk-toggleable__control sk-hidden--visually\" id=\"sk-estimator-id-13\" type=\"checkbox\" ><label for=\"sk-estimator-id-13\" class=\"sk-toggleable__label sk-toggleable__label-arrow\">OneHotEncoder</label><div class=\"sk-toggleable__content\"><pre>OneHotEncoder(sparse_output=False)</pre></div></div></div></div></div></div><div class=\"sk-parallel-item\"><div class=\"sk-item\"><div class=\"sk-label-container\"><div class=\"sk-label sk-toggleable\"><input class=\"sk-toggleable__control sk-hidden--visually\" id=\"sk-estimator-id-14\" type=\"checkbox\" ><label for=\"sk-estimator-id-14\" class=\"sk-toggleable__label sk-toggleable__label-arrow\">onehotencoder-6</label><div class=\"sk-toggleable__content\"><pre>[&#x27;aeronave_matricula&#x27;]</pre></div></div></div><div class=\"sk-serial\"><div class=\"sk-item\"><div class=\"sk-estimator sk-toggleable\"><input class=\"sk-toggleable__control sk-hidden--visually\" id=\"sk-estimator-id-15\" type=\"checkbox\" ><label for=\"sk-estimator-id-15\" class=\"sk-toggleable__label sk-toggleable__label-arrow\">OneHotEncoder</label><div class=\"sk-toggleable__content\"><pre>OneHotEncoder(sparse_output=False)</pre></div></div></div></div></div></div><div class=\"sk-parallel-item\"><div class=\"sk-item\"><div class=\"sk-label-container\"><div class=\"sk-label sk-toggleable\"><input class=\"sk-toggleable__control sk-hidden--visually\" id=\"sk-estimator-id-16\" type=\"checkbox\" ><label for=\"sk-estimator-id-16\" class=\"sk-toggleable__label sk-toggleable__label-arrow\">onehotencoder-7</label><div class=\"sk-toggleable__content\"><pre>[&#x27;aeronave_fabricante&#x27;]</pre></div></div></div><div class=\"sk-serial\"><div class=\"sk-item\"><div class=\"sk-estimator sk-toggleable\"><input class=\"sk-toggleable__control sk-hidden--visually\" id=\"sk-estimator-id-17\" type=\"checkbox\" ><label for=\"sk-estimator-id-17\" class=\"sk-toggleable__label sk-toggleable__label-arrow\">OneHotEncoder</label><div class=\"sk-toggleable__content\"><pre>OneHotEncoder(sparse_output=False)</pre></div></div></div></div></div></div><div class=\"sk-parallel-item\"><div class=\"sk-item\"><div class=\"sk-label-container\"><div class=\"sk-label sk-toggleable\"><input class=\"sk-toggleable__control sk-hidden--visually\" id=\"sk-estimator-id-18\" type=\"checkbox\" ><label for=\"sk-estimator-id-18\" class=\"sk-toggleable__label sk-toggleable__label-arrow\">onehotencoder-8</label><div class=\"sk-toggleable__content\"><pre>[&#x27;aeronave_modelo&#x27;]</pre></div></div></div><div class=\"sk-serial\"><div class=\"sk-item\"><div class=\"sk-estimator sk-toggleable\"><input class=\"sk-toggleable__control sk-hidden--visually\" id=\"sk-estimator-id-19\" type=\"checkbox\" ><label for=\"sk-estimator-id-19\" class=\"sk-toggleable__label sk-toggleable__label-arrow\">OneHotEncoder</label><div class=\"sk-toggleable__content\"><pre>OneHotEncoder(sparse_output=False)</pre></div></div></div></div></div></div><div class=\"sk-parallel-item\"><div class=\"sk-item\"><div class=\"sk-label-container\"><div class=\"sk-label sk-toggleable\"><input class=\"sk-toggleable__control sk-hidden--visually\" id=\"sk-estimator-id-20\" type=\"checkbox\" ><label for=\"sk-estimator-id-20\" class=\"sk-toggleable__label sk-toggleable__label-arrow\">onehotencoder-9</label><div class=\"sk-toggleable__content\"><pre>[&#x27;aeronave_tipo_icao&#x27;]</pre></div></div></div><div class=\"sk-serial\"><div class=\"sk-item\"><div class=\"sk-estimator sk-toggleable\"><input class=\"sk-toggleable__control sk-hidden--visually\" id=\"sk-estimator-id-21\" type=\"checkbox\" ><label for=\"sk-estimator-id-21\" class=\"sk-toggleable__label sk-toggleable__label-arrow\">OneHotEncoder</label><div class=\"sk-toggleable__content\"><pre>OneHotEncoder(sparse_output=False)</pre></div></div></div></div></div></div><div class=\"sk-parallel-item\"><div class=\"sk-item\"><div class=\"sk-label-container\"><div class=\"sk-label sk-toggleable\"><input class=\"sk-toggleable__control sk-hidden--visually\" id=\"sk-estimator-id-22\" type=\"checkbox\" ><label for=\"sk-estimator-id-22\" class=\"sk-toggleable__label sk-toggleable__label-arrow\">onehotencoder-10</label><div class=\"sk-toggleable__content\"><pre>[&#x27;aeronave_fase_operacao&#x27;]</pre></div></div></div><div class=\"sk-serial\"><div class=\"sk-item\"><div class=\"sk-estimator sk-toggleable\"><input class=\"sk-toggleable__control sk-hidden--visually\" id=\"sk-estimator-id-23\" type=\"checkbox\" ><label for=\"sk-estimator-id-23\" class=\"sk-toggleable__label sk-toggleable__label-arrow\">OneHotEncoder</label><div class=\"sk-toggleable__content\"><pre>OneHotEncoder(sparse_output=False)</pre></div></div></div></div></div></div><div class=\"sk-parallel-item\"><div class=\"sk-item\"><div class=\"sk-label-container\"><div class=\"sk-label sk-toggleable\"><input class=\"sk-toggleable__control sk-hidden--visually\" id=\"sk-estimator-id-24\" type=\"checkbox\" ><label for=\"sk-estimator-id-24\" class=\"sk-toggleable__label sk-toggleable__label-arrow\">onehotencoder-11</label><div class=\"sk-toggleable__content\"><pre>[&#x27;fator_aspecto&#x27;]</pre></div></div></div><div class=\"sk-serial\"><div class=\"sk-item\"><div class=\"sk-estimator sk-toggleable\"><input class=\"sk-toggleable__control sk-hidden--visually\" id=\"sk-estimator-id-25\" type=\"checkbox\" ><label for=\"sk-estimator-id-25\" class=\"sk-toggleable__label sk-toggleable__label-arrow\">OneHotEncoder</label><div class=\"sk-toggleable__content\"><pre>OneHotEncoder(sparse_output=False)</pre></div></div></div></div></div></div></div></div></div></div>"
      ],
      "text/plain": [
       "ColumnTransformer(transformers=[('ordinalencoder', OrdinalEncoder(),\n",
       "                                 ['ocorrencia_classificacao']),\n",
       "                                ('onehotencoder-1',\n",
       "                                 OneHotEncoder(sparse_output=False),\n",
       "                                 ['aeronave_tipo_veiculo']),\n",
       "                                ('onehotencoder-2',\n",
       "                                 OneHotEncoder(sparse_output=False),\n",
       "                                 ['aeronave_motor_tipo']),\n",
       "                                ('onehotencoder-3',\n",
       "                                 OneHotEncoder(sparse_output=False),\n",
       "                                 ['aeronave_motor_quantidade']),\n",
       "                                ('onehot...\n",
       "                                 OneHotEncoder(sparse_output=False),\n",
       "                                 ['aeronave_fabricante']),\n",
       "                                ('onehotencoder-8',\n",
       "                                 OneHotEncoder(sparse_output=False),\n",
       "                                 ['aeronave_modelo']),\n",
       "                                ('onehotencoder-9',\n",
       "                                 OneHotEncoder(sparse_output=False),\n",
       "                                 ['aeronave_tipo_icao']),\n",
       "                                ('onehotencoder-10',\n",
       "                                 OneHotEncoder(sparse_output=False),\n",
       "                                 ['aeronave_fase_operacao']),\n",
       "                                ('onehotencoder-11',\n",
       "                                 OneHotEncoder(sparse_output=False),\n",
       "                                 ['fator_aspecto'])])"
      ]
     },
     "execution_count": 7,
     "metadata": {},
     "output_type": "execute_result"
    }
   ],
   "source": [
    "ct.set_output(transform=\"pandas\")"
   ]
  },
  {
   "cell_type": "code",
   "execution_count": 8,
   "id": "ca5dbeb9",
   "metadata": {},
   "outputs": [],
   "source": [
    "#transformando as colunas\n",
    "base_pandas = ct.fit_transform(base)\n",
    "base_pandas.rename(columns ={\"ordinalencoder__ocorrencia_classificacao\":\"ocorrencia_classificacao\"}, inplace=True)"
   ]
  },
  {
   "cell_type": "code",
   "execution_count": 9,
   "id": "033b8a88",
   "metadata": {},
   "outputs": [],
   "source": [
    "#Os dados que irei querer prever estão no y e os dados que serão utilizados para a previsão no x\n",
    "x_pandas = base_pandas.drop('ocorrencia_classificacao', axis=1)\n",
    "y_pandas = base_pandas.ocorrencia_classificacao"
   ]
  },
  {
   "cell_type": "code",
   "execution_count": 10,
   "id": "f46281b7",
   "metadata": {},
   "outputs": [
    {
     "data": {
      "text/plain": [
       "0.9948460420245804"
      ]
     },
     "execution_count": 10,
     "metadata": {},
     "output_type": "execute_result"
    }
   ],
   "source": [
    "#Chamando a bilioteca KNN\n",
    "from sklearn.neighbors import KNeighborsClassifier\n",
    "\n",
    "#Criando o Classificado\n",
    "neigh = KNeighborsClassifier(n_neighbors=3)\n",
    "\n",
    "#Fazendo fit com os dados\n",
    "neigh.fit(x_pandas,y_pandas)\n",
    "\n",
    "#Avalindo o modelo utilizado\n",
    "neigh.score(x_pandas,y_pandas)"
   ]
  },
  {
   "cell_type": "code",
   "execution_count": 11,
   "id": "12de57ac",
   "metadata": {},
   "outputs": [
    {
     "data": {
      "text/plain": [
       "1.0"
      ]
     },
     "execution_count": 11,
     "metadata": {},
     "output_type": "execute_result"
    }
   ],
   "source": [
    "#Importando a árvore de decisão\n",
    "from sklearn import tree\n",
    "\n",
    "#Criando o classificador\n",
    "clfArvore = tree.DecisionTreeClassifier()\n",
    "\n",
    "#Fazendo o fit com os dados\n",
    "clfArvore = clfArvore.fit(x_pandas,y_pandas)\n",
    "\n",
    "#Avaliando o modelo\n",
    "clfArvore.score(x_pandas,y_pandas)"
   ]
  },
  {
   "cell_type": "code",
   "execution_count": 12,
   "id": "4ea603fb",
   "metadata": {},
   "outputs": [
    {
     "data": {
      "text/plain": [
       "0.9956389586361835"
      ]
     },
     "execution_count": 12,
     "metadata": {},
     "output_type": "execute_result"
    }
   ],
   "source": [
    "#Importando a regressão logística\n",
    "from sklearn.linear_model import LogisticRegression\n",
    "\n",
    "#Criando o classificador e fit com os dados\n",
    "clfLog = LogisticRegression(random_state=0, max_iter=1000).fit(x_pandas,y_pandas)\n",
    "\n",
    "#Avaliando o modelo\n",
    "clfLog.score(x_pandas,y_pandas)"
   ]
  },
  {
   "cell_type": "code",
   "execution_count": 13,
   "id": "b3379319",
   "metadata": {},
   "outputs": [],
   "source": [
    "#Criando um base de teste para prever a eficacia dos modelos de aprendizagem de maquina\n",
    "base_teste = pd.read_excel(\"C:/Users/Certe/Desktop/acidentes_processados-3.xlsx\")\n",
    "base_teste = base_teste.drop('ocorrencia_longitude', axis=1)\n",
    "base_teste = base_teste.drop('ocorrencia_latitude', axis=1)\n",
    "base_teste = base_teste.drop('ocorrencia_cidade', axis=1)\n",
    "base_teste = base_teste.drop('ocorrencia_uf', axis=1)\n",
    "base_teste = base_teste.drop('ocorrencia_dia', axis=1)\n",
    "base_teste = base_teste.drop('ocorrencia_aerodromo', axis=1)\n",
    "base_teste = base_teste.drop('ocorrencia_hora', axis=1)\n",
    "base_teste = base_teste.drop('investigacao_aeronave_liberada', axis=1)\n",
    "base_teste = base_teste.drop('total_recomendacoes', axis=1)\n",
    "base_teste = base_teste.drop('total_aeronaves_envolvidas', axis=1)\n",
    "base_teste = base_teste.drop('ocorrencia_saida_pista', axis=1)\n",
    "base_teste = base_teste.drop('ocorrencia_tipo', axis=1)\n",
    "base_teste = base_teste.drop('recomendacao_numero', axis=1)\n",
    "base_teste = base_teste.drop('recomendacao_dia_assinatura', axis=1)\n",
    "base_teste = base_teste.drop('recomendacao_dia_encaminhamento', axis=1)\n",
    "base_teste = base_teste.drop('recomendacao_dia_feedback', axis=1)\n",
    "base_teste = base_teste.drop('recomendacao_conteudo', axis=1)\n",
    "base_teste = base_teste.drop('recomendacao_status', axis=1)\n",
    "base_teste = base_teste.drop('aeronave_voo_origem', axis=1)\n",
    "base_teste = base_teste.drop('aeronave_voo_destino', axis=1)\n",
    "base_teste = base_teste.drop('aeronave_nivel_dano', axis=1)\n",
    "base_teste = base_teste.drop('aeronave_fatalidades_total', axis=1)\n",
    "base_teste = base_teste.drop('fator_nome', axis=1)\n",
    "base_teste = base_teste.drop('fator_condicionante', axis=1)"
   ]
  },
  {
   "cell_type": "code",
   "execution_count": 14,
   "id": "397e4292",
   "metadata": {},
   "outputs": [],
   "source": [
    "#Criando os conversores\n",
    "ohe = OneHotEncoder(sparse_output=False)\n",
    "ode = OrdinalEncoder()"
   ]
  },
  {
   "cell_type": "code",
   "execution_count": 15,
   "id": "5cd40de2",
   "metadata": {},
   "outputs": [],
   "source": [
    "#Convertendo as colunas para utilizar no aprendizando de maquina\n",
    "ct = make_column_transformer(\n",
    "    (ode, ['ocorrencia_classificacao']), \n",
    "    (ohe, ['aeronave_tipo_veiculo']),\n",
    "    (ohe, ['aeronave_motor_tipo']),\n",
    "    (ohe, ['aeronave_motor_quantidade']),\n",
    "    (ohe, ['aeronave_pais_fabricante']),\n",
    "    (ohe, ['fator_area']),\n",
    "    (ohe, ['aeronave_matricula']),\n",
    "    (ohe, ['aeronave_fabricante']),\n",
    "    (ohe, ['aeronave_modelo']),\n",
    "    (ohe, ['aeronave_tipo_icao']),\n",
    "    (ohe, ['aeronave_fase_operacao']),\n",
    "    (ohe, ['fator_aspecto']),\n",
    "    remainder = 'drop'\n",
    ")"
   ]
  },
  {
   "cell_type": "code",
   "execution_count": 16,
   "id": "b500a087",
   "metadata": {},
   "outputs": [
    {
     "data": {
      "text/html": [
       "<style>#sk-container-id-2 {color: black;background-color: white;}#sk-container-id-2 pre{padding: 0;}#sk-container-id-2 div.sk-toggleable {background-color: white;}#sk-container-id-2 label.sk-toggleable__label {cursor: pointer;display: block;width: 100%;margin-bottom: 0;padding: 0.3em;box-sizing: border-box;text-align: center;}#sk-container-id-2 label.sk-toggleable__label-arrow:before {content: \"▸\";float: left;margin-right: 0.25em;color: #696969;}#sk-container-id-2 label.sk-toggleable__label-arrow:hover:before {color: black;}#sk-container-id-2 div.sk-estimator:hover label.sk-toggleable__label-arrow:before {color: black;}#sk-container-id-2 div.sk-toggleable__content {max-height: 0;max-width: 0;overflow: hidden;text-align: left;background-color: #f0f8ff;}#sk-container-id-2 div.sk-toggleable__content pre {margin: 0.2em;color: black;border-radius: 0.25em;background-color: #f0f8ff;}#sk-container-id-2 input.sk-toggleable__control:checked~div.sk-toggleable__content {max-height: 200px;max-width: 100%;overflow: auto;}#sk-container-id-2 input.sk-toggleable__control:checked~label.sk-toggleable__label-arrow:before {content: \"▾\";}#sk-container-id-2 div.sk-estimator input.sk-toggleable__control:checked~label.sk-toggleable__label {background-color: #d4ebff;}#sk-container-id-2 div.sk-label input.sk-toggleable__control:checked~label.sk-toggleable__label {background-color: #d4ebff;}#sk-container-id-2 input.sk-hidden--visually {border: 0;clip: rect(1px 1px 1px 1px);clip: rect(1px, 1px, 1px, 1px);height: 1px;margin: -1px;overflow: hidden;padding: 0;position: absolute;width: 1px;}#sk-container-id-2 div.sk-estimator {font-family: monospace;background-color: #f0f8ff;border: 1px dotted black;border-radius: 0.25em;box-sizing: border-box;margin-bottom: 0.5em;}#sk-container-id-2 div.sk-estimator:hover {background-color: #d4ebff;}#sk-container-id-2 div.sk-parallel-item::after {content: \"\";width: 100%;border-bottom: 1px solid gray;flex-grow: 1;}#sk-container-id-2 div.sk-label:hover label.sk-toggleable__label {background-color: #d4ebff;}#sk-container-id-2 div.sk-serial::before {content: \"\";position: absolute;border-left: 1px solid gray;box-sizing: border-box;top: 0;bottom: 0;left: 50%;z-index: 0;}#sk-container-id-2 div.sk-serial {display: flex;flex-direction: column;align-items: center;background-color: white;padding-right: 0.2em;padding-left: 0.2em;position: relative;}#sk-container-id-2 div.sk-item {position: relative;z-index: 1;}#sk-container-id-2 div.sk-parallel {display: flex;align-items: stretch;justify-content: center;background-color: white;position: relative;}#sk-container-id-2 div.sk-item::before, #sk-container-id-2 div.sk-parallel-item::before {content: \"\";position: absolute;border-left: 1px solid gray;box-sizing: border-box;top: 0;bottom: 0;left: 50%;z-index: -1;}#sk-container-id-2 div.sk-parallel-item {display: flex;flex-direction: column;z-index: 1;position: relative;background-color: white;}#sk-container-id-2 div.sk-parallel-item:first-child::after {align-self: flex-end;width: 50%;}#sk-container-id-2 div.sk-parallel-item:last-child::after {align-self: flex-start;width: 50%;}#sk-container-id-2 div.sk-parallel-item:only-child::after {width: 0;}#sk-container-id-2 div.sk-dashed-wrapped {border: 1px dashed gray;margin: 0 0.4em 0.5em 0.4em;box-sizing: border-box;padding-bottom: 0.4em;background-color: white;}#sk-container-id-2 div.sk-label label {font-family: monospace;font-weight: bold;display: inline-block;line-height: 1.2em;}#sk-container-id-2 div.sk-label-container {text-align: center;}#sk-container-id-2 div.sk-container {/* jupyter's `normalize.less` sets `[hidden] { display: none; }` but bootstrap.min.css set `[hidden] { display: none !important; }` so we also need the `!important` here to be able to override the default hidden behavior on the sphinx rendered scikit-learn.org. See: https://github.com/scikit-learn/scikit-learn/issues/21755 */display: inline-block !important;position: relative;}#sk-container-id-2 div.sk-text-repr-fallback {display: none;}</style><div id=\"sk-container-id-2\" class=\"sk-top-container\"><div class=\"sk-text-repr-fallback\"><pre>ColumnTransformer(transformers=[(&#x27;ordinalencoder&#x27;, OrdinalEncoder(),\n",
       "                                 [&#x27;ocorrencia_classificacao&#x27;]),\n",
       "                                (&#x27;onehotencoder-1&#x27;,\n",
       "                                 OneHotEncoder(sparse_output=False),\n",
       "                                 [&#x27;aeronave_tipo_veiculo&#x27;]),\n",
       "                                (&#x27;onehotencoder-2&#x27;,\n",
       "                                 OneHotEncoder(sparse_output=False),\n",
       "                                 [&#x27;aeronave_motor_tipo&#x27;]),\n",
       "                                (&#x27;onehotencoder-3&#x27;,\n",
       "                                 OneHotEncoder(sparse_output=False),\n",
       "                                 [&#x27;aeronave_motor_quantidade&#x27;]),\n",
       "                                (&#x27;onehot...\n",
       "                                 OneHotEncoder(sparse_output=False),\n",
       "                                 [&#x27;aeronave_fabricante&#x27;]),\n",
       "                                (&#x27;onehotencoder-8&#x27;,\n",
       "                                 OneHotEncoder(sparse_output=False),\n",
       "                                 [&#x27;aeronave_modelo&#x27;]),\n",
       "                                (&#x27;onehotencoder-9&#x27;,\n",
       "                                 OneHotEncoder(sparse_output=False),\n",
       "                                 [&#x27;aeronave_tipo_icao&#x27;]),\n",
       "                                (&#x27;onehotencoder-10&#x27;,\n",
       "                                 OneHotEncoder(sparse_output=False),\n",
       "                                 [&#x27;aeronave_fase_operacao&#x27;]),\n",
       "                                (&#x27;onehotencoder-11&#x27;,\n",
       "                                 OneHotEncoder(sparse_output=False),\n",
       "                                 [&#x27;fator_aspecto&#x27;])])</pre><b>In a Jupyter environment, please rerun this cell to show the HTML representation or trust the notebook. <br />On GitHub, the HTML representation is unable to render, please try loading this page with nbviewer.org.</b></div><div class=\"sk-container\" hidden><div class=\"sk-item sk-dashed-wrapped\"><div class=\"sk-label-container\"><div class=\"sk-label sk-toggleable\"><input class=\"sk-toggleable__control sk-hidden--visually\" id=\"sk-estimator-id-26\" type=\"checkbox\" ><label for=\"sk-estimator-id-26\" class=\"sk-toggleable__label sk-toggleable__label-arrow\">ColumnTransformer</label><div class=\"sk-toggleable__content\"><pre>ColumnTransformer(transformers=[(&#x27;ordinalencoder&#x27;, OrdinalEncoder(),\n",
       "                                 [&#x27;ocorrencia_classificacao&#x27;]),\n",
       "                                (&#x27;onehotencoder-1&#x27;,\n",
       "                                 OneHotEncoder(sparse_output=False),\n",
       "                                 [&#x27;aeronave_tipo_veiculo&#x27;]),\n",
       "                                (&#x27;onehotencoder-2&#x27;,\n",
       "                                 OneHotEncoder(sparse_output=False),\n",
       "                                 [&#x27;aeronave_motor_tipo&#x27;]),\n",
       "                                (&#x27;onehotencoder-3&#x27;,\n",
       "                                 OneHotEncoder(sparse_output=False),\n",
       "                                 [&#x27;aeronave_motor_quantidade&#x27;]),\n",
       "                                (&#x27;onehot...\n",
       "                                 OneHotEncoder(sparse_output=False),\n",
       "                                 [&#x27;aeronave_fabricante&#x27;]),\n",
       "                                (&#x27;onehotencoder-8&#x27;,\n",
       "                                 OneHotEncoder(sparse_output=False),\n",
       "                                 [&#x27;aeronave_modelo&#x27;]),\n",
       "                                (&#x27;onehotencoder-9&#x27;,\n",
       "                                 OneHotEncoder(sparse_output=False),\n",
       "                                 [&#x27;aeronave_tipo_icao&#x27;]),\n",
       "                                (&#x27;onehotencoder-10&#x27;,\n",
       "                                 OneHotEncoder(sparse_output=False),\n",
       "                                 [&#x27;aeronave_fase_operacao&#x27;]),\n",
       "                                (&#x27;onehotencoder-11&#x27;,\n",
       "                                 OneHotEncoder(sparse_output=False),\n",
       "                                 [&#x27;fator_aspecto&#x27;])])</pre></div></div></div><div class=\"sk-parallel\"><div class=\"sk-parallel-item\"><div class=\"sk-item\"><div class=\"sk-label-container\"><div class=\"sk-label sk-toggleable\"><input class=\"sk-toggleable__control sk-hidden--visually\" id=\"sk-estimator-id-27\" type=\"checkbox\" ><label for=\"sk-estimator-id-27\" class=\"sk-toggleable__label sk-toggleable__label-arrow\">ordinalencoder</label><div class=\"sk-toggleable__content\"><pre>[&#x27;ocorrencia_classificacao&#x27;]</pre></div></div></div><div class=\"sk-serial\"><div class=\"sk-item\"><div class=\"sk-estimator sk-toggleable\"><input class=\"sk-toggleable__control sk-hidden--visually\" id=\"sk-estimator-id-28\" type=\"checkbox\" ><label for=\"sk-estimator-id-28\" class=\"sk-toggleable__label sk-toggleable__label-arrow\">OrdinalEncoder</label><div class=\"sk-toggleable__content\"><pre>OrdinalEncoder()</pre></div></div></div></div></div></div><div class=\"sk-parallel-item\"><div class=\"sk-item\"><div class=\"sk-label-container\"><div class=\"sk-label sk-toggleable\"><input class=\"sk-toggleable__control sk-hidden--visually\" id=\"sk-estimator-id-29\" type=\"checkbox\" ><label for=\"sk-estimator-id-29\" class=\"sk-toggleable__label sk-toggleable__label-arrow\">onehotencoder-1</label><div class=\"sk-toggleable__content\"><pre>[&#x27;aeronave_tipo_veiculo&#x27;]</pre></div></div></div><div class=\"sk-serial\"><div class=\"sk-item\"><div class=\"sk-estimator sk-toggleable\"><input class=\"sk-toggleable__control sk-hidden--visually\" id=\"sk-estimator-id-30\" type=\"checkbox\" ><label for=\"sk-estimator-id-30\" class=\"sk-toggleable__label sk-toggleable__label-arrow\">OneHotEncoder</label><div class=\"sk-toggleable__content\"><pre>OneHotEncoder(sparse_output=False)</pre></div></div></div></div></div></div><div class=\"sk-parallel-item\"><div class=\"sk-item\"><div class=\"sk-label-container\"><div class=\"sk-label sk-toggleable\"><input class=\"sk-toggleable__control sk-hidden--visually\" id=\"sk-estimator-id-31\" type=\"checkbox\" ><label for=\"sk-estimator-id-31\" class=\"sk-toggleable__label sk-toggleable__label-arrow\">onehotencoder-2</label><div class=\"sk-toggleable__content\"><pre>[&#x27;aeronave_motor_tipo&#x27;]</pre></div></div></div><div class=\"sk-serial\"><div class=\"sk-item\"><div class=\"sk-estimator sk-toggleable\"><input class=\"sk-toggleable__control sk-hidden--visually\" id=\"sk-estimator-id-32\" type=\"checkbox\" ><label for=\"sk-estimator-id-32\" class=\"sk-toggleable__label sk-toggleable__label-arrow\">OneHotEncoder</label><div class=\"sk-toggleable__content\"><pre>OneHotEncoder(sparse_output=False)</pre></div></div></div></div></div></div><div class=\"sk-parallel-item\"><div class=\"sk-item\"><div class=\"sk-label-container\"><div class=\"sk-label sk-toggleable\"><input class=\"sk-toggleable__control sk-hidden--visually\" id=\"sk-estimator-id-33\" type=\"checkbox\" ><label for=\"sk-estimator-id-33\" class=\"sk-toggleable__label sk-toggleable__label-arrow\">onehotencoder-3</label><div class=\"sk-toggleable__content\"><pre>[&#x27;aeronave_motor_quantidade&#x27;]</pre></div></div></div><div class=\"sk-serial\"><div class=\"sk-item\"><div class=\"sk-estimator sk-toggleable\"><input class=\"sk-toggleable__control sk-hidden--visually\" id=\"sk-estimator-id-34\" type=\"checkbox\" ><label for=\"sk-estimator-id-34\" class=\"sk-toggleable__label sk-toggleable__label-arrow\">OneHotEncoder</label><div class=\"sk-toggleable__content\"><pre>OneHotEncoder(sparse_output=False)</pre></div></div></div></div></div></div><div class=\"sk-parallel-item\"><div class=\"sk-item\"><div class=\"sk-label-container\"><div class=\"sk-label sk-toggleable\"><input class=\"sk-toggleable__control sk-hidden--visually\" id=\"sk-estimator-id-35\" type=\"checkbox\" ><label for=\"sk-estimator-id-35\" class=\"sk-toggleable__label sk-toggleable__label-arrow\">onehotencoder-4</label><div class=\"sk-toggleable__content\"><pre>[&#x27;aeronave_pais_fabricante&#x27;]</pre></div></div></div><div class=\"sk-serial\"><div class=\"sk-item\"><div class=\"sk-estimator sk-toggleable\"><input class=\"sk-toggleable__control sk-hidden--visually\" id=\"sk-estimator-id-36\" type=\"checkbox\" ><label for=\"sk-estimator-id-36\" class=\"sk-toggleable__label sk-toggleable__label-arrow\">OneHotEncoder</label><div class=\"sk-toggleable__content\"><pre>OneHotEncoder(sparse_output=False)</pre></div></div></div></div></div></div><div class=\"sk-parallel-item\"><div class=\"sk-item\"><div class=\"sk-label-container\"><div class=\"sk-label sk-toggleable\"><input class=\"sk-toggleable__control sk-hidden--visually\" id=\"sk-estimator-id-37\" type=\"checkbox\" ><label for=\"sk-estimator-id-37\" class=\"sk-toggleable__label sk-toggleable__label-arrow\">onehotencoder-5</label><div class=\"sk-toggleable__content\"><pre>[&#x27;fator_area&#x27;]</pre></div></div></div><div class=\"sk-serial\"><div class=\"sk-item\"><div class=\"sk-estimator sk-toggleable\"><input class=\"sk-toggleable__control sk-hidden--visually\" id=\"sk-estimator-id-38\" type=\"checkbox\" ><label for=\"sk-estimator-id-38\" class=\"sk-toggleable__label sk-toggleable__label-arrow\">OneHotEncoder</label><div class=\"sk-toggleable__content\"><pre>OneHotEncoder(sparse_output=False)</pre></div></div></div></div></div></div><div class=\"sk-parallel-item\"><div class=\"sk-item\"><div class=\"sk-label-container\"><div class=\"sk-label sk-toggleable\"><input class=\"sk-toggleable__control sk-hidden--visually\" id=\"sk-estimator-id-39\" type=\"checkbox\" ><label for=\"sk-estimator-id-39\" class=\"sk-toggleable__label sk-toggleable__label-arrow\">onehotencoder-6</label><div class=\"sk-toggleable__content\"><pre>[&#x27;aeronave_matricula&#x27;]</pre></div></div></div><div class=\"sk-serial\"><div class=\"sk-item\"><div class=\"sk-estimator sk-toggleable\"><input class=\"sk-toggleable__control sk-hidden--visually\" id=\"sk-estimator-id-40\" type=\"checkbox\" ><label for=\"sk-estimator-id-40\" class=\"sk-toggleable__label sk-toggleable__label-arrow\">OneHotEncoder</label><div class=\"sk-toggleable__content\"><pre>OneHotEncoder(sparse_output=False)</pre></div></div></div></div></div></div><div class=\"sk-parallel-item\"><div class=\"sk-item\"><div class=\"sk-label-container\"><div class=\"sk-label sk-toggleable\"><input class=\"sk-toggleable__control sk-hidden--visually\" id=\"sk-estimator-id-41\" type=\"checkbox\" ><label for=\"sk-estimator-id-41\" class=\"sk-toggleable__label sk-toggleable__label-arrow\">onehotencoder-7</label><div class=\"sk-toggleable__content\"><pre>[&#x27;aeronave_fabricante&#x27;]</pre></div></div></div><div class=\"sk-serial\"><div class=\"sk-item\"><div class=\"sk-estimator sk-toggleable\"><input class=\"sk-toggleable__control sk-hidden--visually\" id=\"sk-estimator-id-42\" type=\"checkbox\" ><label for=\"sk-estimator-id-42\" class=\"sk-toggleable__label sk-toggleable__label-arrow\">OneHotEncoder</label><div class=\"sk-toggleable__content\"><pre>OneHotEncoder(sparse_output=False)</pre></div></div></div></div></div></div><div class=\"sk-parallel-item\"><div class=\"sk-item\"><div class=\"sk-label-container\"><div class=\"sk-label sk-toggleable\"><input class=\"sk-toggleable__control sk-hidden--visually\" id=\"sk-estimator-id-43\" type=\"checkbox\" ><label for=\"sk-estimator-id-43\" class=\"sk-toggleable__label sk-toggleable__label-arrow\">onehotencoder-8</label><div class=\"sk-toggleable__content\"><pre>[&#x27;aeronave_modelo&#x27;]</pre></div></div></div><div class=\"sk-serial\"><div class=\"sk-item\"><div class=\"sk-estimator sk-toggleable\"><input class=\"sk-toggleable__control sk-hidden--visually\" id=\"sk-estimator-id-44\" type=\"checkbox\" ><label for=\"sk-estimator-id-44\" class=\"sk-toggleable__label sk-toggleable__label-arrow\">OneHotEncoder</label><div class=\"sk-toggleable__content\"><pre>OneHotEncoder(sparse_output=False)</pre></div></div></div></div></div></div><div class=\"sk-parallel-item\"><div class=\"sk-item\"><div class=\"sk-label-container\"><div class=\"sk-label sk-toggleable\"><input class=\"sk-toggleable__control sk-hidden--visually\" id=\"sk-estimator-id-45\" type=\"checkbox\" ><label for=\"sk-estimator-id-45\" class=\"sk-toggleable__label sk-toggleable__label-arrow\">onehotencoder-9</label><div class=\"sk-toggleable__content\"><pre>[&#x27;aeronave_tipo_icao&#x27;]</pre></div></div></div><div class=\"sk-serial\"><div class=\"sk-item\"><div class=\"sk-estimator sk-toggleable\"><input class=\"sk-toggleable__control sk-hidden--visually\" id=\"sk-estimator-id-46\" type=\"checkbox\" ><label for=\"sk-estimator-id-46\" class=\"sk-toggleable__label sk-toggleable__label-arrow\">OneHotEncoder</label><div class=\"sk-toggleable__content\"><pre>OneHotEncoder(sparse_output=False)</pre></div></div></div></div></div></div><div class=\"sk-parallel-item\"><div class=\"sk-item\"><div class=\"sk-label-container\"><div class=\"sk-label sk-toggleable\"><input class=\"sk-toggleable__control sk-hidden--visually\" id=\"sk-estimator-id-47\" type=\"checkbox\" ><label for=\"sk-estimator-id-47\" class=\"sk-toggleable__label sk-toggleable__label-arrow\">onehotencoder-10</label><div class=\"sk-toggleable__content\"><pre>[&#x27;aeronave_fase_operacao&#x27;]</pre></div></div></div><div class=\"sk-serial\"><div class=\"sk-item\"><div class=\"sk-estimator sk-toggleable\"><input class=\"sk-toggleable__control sk-hidden--visually\" id=\"sk-estimator-id-48\" type=\"checkbox\" ><label for=\"sk-estimator-id-48\" class=\"sk-toggleable__label sk-toggleable__label-arrow\">OneHotEncoder</label><div class=\"sk-toggleable__content\"><pre>OneHotEncoder(sparse_output=False)</pre></div></div></div></div></div></div><div class=\"sk-parallel-item\"><div class=\"sk-item\"><div class=\"sk-label-container\"><div class=\"sk-label sk-toggleable\"><input class=\"sk-toggleable__control sk-hidden--visually\" id=\"sk-estimator-id-49\" type=\"checkbox\" ><label for=\"sk-estimator-id-49\" class=\"sk-toggleable__label sk-toggleable__label-arrow\">onehotencoder-11</label><div class=\"sk-toggleable__content\"><pre>[&#x27;fator_aspecto&#x27;]</pre></div></div></div><div class=\"sk-serial\"><div class=\"sk-item\"><div class=\"sk-estimator sk-toggleable\"><input class=\"sk-toggleable__control sk-hidden--visually\" id=\"sk-estimator-id-50\" type=\"checkbox\" ><label for=\"sk-estimator-id-50\" class=\"sk-toggleable__label sk-toggleable__label-arrow\">OneHotEncoder</label><div class=\"sk-toggleable__content\"><pre>OneHotEncoder(sparse_output=False)</pre></div></div></div></div></div></div></div></div></div></div>"
      ],
      "text/plain": [
       "ColumnTransformer(transformers=[('ordinalencoder', OrdinalEncoder(),\n",
       "                                 ['ocorrencia_classificacao']),\n",
       "                                ('onehotencoder-1',\n",
       "                                 OneHotEncoder(sparse_output=False),\n",
       "                                 ['aeronave_tipo_veiculo']),\n",
       "                                ('onehotencoder-2',\n",
       "                                 OneHotEncoder(sparse_output=False),\n",
       "                                 ['aeronave_motor_tipo']),\n",
       "                                ('onehotencoder-3',\n",
       "                                 OneHotEncoder(sparse_output=False),\n",
       "                                 ['aeronave_motor_quantidade']),\n",
       "                                ('onehot...\n",
       "                                 OneHotEncoder(sparse_output=False),\n",
       "                                 ['aeronave_fabricante']),\n",
       "                                ('onehotencoder-8',\n",
       "                                 OneHotEncoder(sparse_output=False),\n",
       "                                 ['aeronave_modelo']),\n",
       "                                ('onehotencoder-9',\n",
       "                                 OneHotEncoder(sparse_output=False),\n",
       "                                 ['aeronave_tipo_icao']),\n",
       "                                ('onehotencoder-10',\n",
       "                                 OneHotEncoder(sparse_output=False),\n",
       "                                 ['aeronave_fase_operacao']),\n",
       "                                ('onehotencoder-11',\n",
       "                                 OneHotEncoder(sparse_output=False),\n",
       "                                 ['fator_aspecto'])])"
      ]
     },
     "execution_count": 16,
     "metadata": {},
     "output_type": "execute_result"
    }
   ],
   "source": [
    "ct.set_output(transform=\"pandas\")"
   ]
  },
  {
   "cell_type": "code",
   "execution_count": 17,
   "id": "f3d299ed",
   "metadata": {},
   "outputs": [],
   "source": [
    "#transformando as colunas\n",
    "base_pandasteste = ct.fit_transform(base_teste)\n",
    "base_pandasteste.rename(columns ={\"ordinalencoder__ocorrencia_classificacao\":\"ocorrencia_classificacao\"}, inplace=True)"
   ]
  },
  {
   "cell_type": "code",
   "execution_count": 18,
   "id": "058e1243",
   "metadata": {},
   "outputs": [],
   "source": [
    "#Os dados que irei querer prever estão no y e os dados que serão utilizados para a previsão no x\n",
    "x_teste = base_pandasteste.drop('ocorrencia_classificacao', axis=1)\n",
    "y_teste = base_pandasteste.ocorrencia_classificacao"
   ]
  },
  {
   "cell_type": "code",
   "execution_count": 19,
   "id": "1ee64b31",
   "metadata": {},
   "outputs": [],
   "source": [
    "#Predição com KNN\n",
    "pred_KNN = neigh.predict(x_teste)"
   ]
  },
  {
   "cell_type": "code",
   "execution_count": 20,
   "id": "81f4ee33",
   "metadata": {},
   "outputs": [],
   "source": [
    "#Predição com Árvore de Decisão\n",
    "pred_Arvore = clfArvore.predict(x_teste)"
   ]
  },
  {
   "cell_type": "code",
   "execution_count": 21,
   "id": "b27b95c4",
   "metadata": {},
   "outputs": [],
   "source": [
    "#Precição com Regressão Logística\n",
    "pred_Log = clfLog.predict(x_teste)"
   ]
  },
  {
   "cell_type": "code",
   "execution_count": 22,
   "id": "39d8cacb",
   "metadata": {},
   "outputs": [],
   "source": [
    "#Importando a matriz de confusão para verificar as predições do metodos\n",
    "from sklearn.metrics import confusion_matrix"
   ]
  },
  {
   "cell_type": "code",
   "execution_count": 23,
   "id": "51226b69",
   "metadata": {},
   "outputs": [
    {
     "data": {
      "text/plain": [
       "array([[5675,    0,   15],\n",
       "       [   1,  264,    1],\n",
       "       [  22,    0, 1589]], dtype=int64)"
      ]
     },
     "execution_count": 23,
     "metadata": {},
     "output_type": "execute_result"
    }
   ],
   "source": [
    "#Verificando o KNN\n",
    "confusion_matrix(y_teste, pred_KNN)"
   ]
  },
  {
   "cell_type": "code",
   "execution_count": 24,
   "id": "2fab6f56",
   "metadata": {},
   "outputs": [
    {
     "data": {
      "text/plain": [
       "array([[5690,    0,    0],\n",
       "       [   0,  266,    0],\n",
       "       [   0,    0, 1611]], dtype=int64)"
      ]
     },
     "execution_count": 24,
     "metadata": {},
     "output_type": "execute_result"
    }
   ],
   "source": [
    "#Verificando a Árvore\n",
    "confusion_matrix(y_teste, pred_Arvore)"
   ]
  },
  {
   "cell_type": "code",
   "execution_count": 25,
   "id": "2aaf54cd",
   "metadata": {},
   "outputs": [
    {
     "data": {
      "text/plain": [
       "array([[5681,    0,    9],\n",
       "       [   1,  264,    1],\n",
       "       [  22,    0, 1589]], dtype=int64)"
      ]
     },
     "execution_count": 25,
     "metadata": {},
     "output_type": "execute_result"
    }
   ],
   "source": [
    "#Verificando a Regressão Logística\n",
    "confusion_matrix(y_teste, pred_Log)"
   ]
  },
  {
   "cell_type": "code",
   "execution_count": 26,
   "id": "b8787e03",
   "metadata": {},
   "outputs": [],
   "source": [
    "#Importando a métrica de acurácia\n",
    "from sklearn.metrics import accuracy_score"
   ]
  },
  {
   "cell_type": "code",
   "execution_count": 27,
   "id": "c1c85ae5",
   "metadata": {},
   "outputs": [
    {
     "data": {
      "text/plain": [
       "0.9948460420245804"
      ]
     },
     "execution_count": 27,
     "metadata": {},
     "output_type": "execute_result"
    }
   ],
   "source": [
    "#Verificando o erro KNN\n",
    "accuracy_score(y_teste, pred_KNN)"
   ]
  },
  {
   "cell_type": "code",
   "execution_count": 28,
   "id": "00242657",
   "metadata": {},
   "outputs": [
    {
     "data": {
      "text/plain": [
       "1.0"
      ]
     },
     "execution_count": 28,
     "metadata": {},
     "output_type": "execute_result"
    }
   ],
   "source": [
    "#Verificando o erro Arvore\n",
    "accuracy_score(y_teste, pred_Arvore)"
   ]
  },
  {
   "cell_type": "code",
   "execution_count": 29,
   "id": "bec8f405",
   "metadata": {},
   "outputs": [
    {
     "data": {
      "text/plain": [
       "0.9956389586361835"
      ]
     },
     "execution_count": 29,
     "metadata": {},
     "output_type": "execute_result"
    }
   ],
   "source": [
    "#Verificando o erro Regressão Logística\n",
    "accuracy_score(y_teste, pred_Log)"
   ]
  },
  {
   "cell_type": "code",
   "execution_count": 30,
   "id": "710cb3d0",
   "metadata": {},
   "outputs": [],
   "source": [
    "#Fazendo o Fit dos dados com a Regressão Linear\n",
    "reg = LinearRegression().fit(x_teste,y_teste)"
   ]
  },
  {
   "cell_type": "code",
   "execution_count": 31,
   "id": "ad0b7329",
   "metadata": {},
   "outputs": [
    {
     "data": {
      "text/plain": [
       "0.9933793186657569"
      ]
     },
     "execution_count": 31,
     "metadata": {},
     "output_type": "execute_result"
    }
   ],
   "source": [
    "#Avaliando o modelo de Regressão Linear\n",
    "reg.score(x_teste,y_teste)"
   ]
  },
  {
   "cell_type": "code",
   "execution_count": 32,
   "id": "2e604f65",
   "metadata": {},
   "outputs": [
    {
     "data": {
      "text/plain": [
       "['regressao.joblib']"
      ]
     },
     "execution_count": 32,
     "metadata": {},
     "output_type": "execute_result"
    }
   ],
   "source": [
    "#Arquivo que pode utilizar o mesmo aprendizado de maquina desse projeto em outros\n",
    "from joblib import dump\n",
    "dump(reg, 'regressao.joblib')"
   ]
  },
  {
   "cell_type": "code",
   "execution_count": 33,
   "id": "a1678dd3",
   "metadata": {},
   "outputs": [],
   "source": [
    "#Convertendo a previsão em uma tabela Excel\n",
    "previsao = reg.predict(x_teste)\n",
    "x_teste['previsao'] = previsao\n",
    "x_teste.to_excel('previsoesocorrencia_eficaciademodelos.xlsx', index=False)"
   ]
  }
 ],
 "metadata": {
  "kernelspec": {
   "display_name": "Python 3 (ipykernel)",
   "language": "python",
   "name": "python3"
  },
  "language_info": {
   "codemirror_mode": {
    "name": "ipython",
    "version": 3
   },
   "file_extension": ".py",
   "mimetype": "text/x-python",
   "name": "python",
   "nbconvert_exporter": "python",
   "pygments_lexer": "ipython3",
   "version": "3.11.7"
  }
 },
 "nbformat": 4,
 "nbformat_minor": 5
}
